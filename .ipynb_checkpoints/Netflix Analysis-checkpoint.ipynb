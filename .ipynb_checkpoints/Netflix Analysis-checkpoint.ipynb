{
 "cells": [
  {
   "cell_type": "code",
   "execution_count": 15,
   "metadata": {},
   "outputs": [],
   "source": [
    "import os \n",
    "import pandas as pd\n",
    "import seaborn as sns\n",
    "import matplotlib.pyplot as plt"
   ]
  },
  {
   "cell_type": "code",
   "execution_count": 2,
   "metadata": {},
   "outputs": [
    {
     "name": "stdout",
     "output_type": "stream",
     "text": [
      "/home/devjoao/Documentos/disrupt_2021\n"
     ]
    }
   ],
   "source": [
    "pwd = os.getcwd()\n",
    "print (pwd)"
   ]
  },
  {
   "cell_type": "code",
   "execution_count": 3,
   "metadata": {},
   "outputs": [
    {
     "data": {
      "text/html": [
       "<div>\n",
       "<style scoped>\n",
       "    .dataframe tbody tr th:only-of-type {\n",
       "        vertical-align: middle;\n",
       "    }\n",
       "\n",
       "    .dataframe tbody tr th {\n",
       "        vertical-align: top;\n",
       "    }\n",
       "\n",
       "    .dataframe thead th {\n",
       "        text-align: right;\n",
       "    }\n",
       "</style>\n",
       "<table border=\"1\" class=\"dataframe\">\n",
       "  <thead>\n",
       "    <tr style=\"text-align: right;\">\n",
       "      <th></th>\n",
       "      <th>show_id</th>\n",
       "      <th>type</th>\n",
       "      <th>title</th>\n",
       "      <th>director</th>\n",
       "      <th>cast</th>\n",
       "      <th>country</th>\n",
       "      <th>date_added</th>\n",
       "      <th>release_year</th>\n",
       "      <th>rating</th>\n",
       "      <th>duration</th>\n",
       "      <th>listed_in</th>\n",
       "      <th>description</th>\n",
       "    </tr>\n",
       "  </thead>\n",
       "  <tbody>\n",
       "    <tr>\n",
       "      <th>0</th>\n",
       "      <td>81145628</td>\n",
       "      <td>Movie</td>\n",
       "      <td>Norm of the North: King Sized Adventure</td>\n",
       "      <td>Richard Finn, Tim Maltby</td>\n",
       "      <td>Alan Marriott, Andrew Toth, Brian Dobson, Cole...</td>\n",
       "      <td>United States, India, South Korea, China</td>\n",
       "      <td>September 9, 2019</td>\n",
       "      <td>2019</td>\n",
       "      <td>TV-PG</td>\n",
       "      <td>90 min</td>\n",
       "      <td>Children &amp; Family Movies, Comedies</td>\n",
       "      <td>Before planning an awesome wedding for his gra...</td>\n",
       "    </tr>\n",
       "    <tr>\n",
       "      <th>1</th>\n",
       "      <td>80117401</td>\n",
       "      <td>Movie</td>\n",
       "      <td>Jandino: Whatever it Takes</td>\n",
       "      <td>NaN</td>\n",
       "      <td>Jandino Asporaat</td>\n",
       "      <td>United Kingdom</td>\n",
       "      <td>September 9, 2016</td>\n",
       "      <td>2016</td>\n",
       "      <td>TV-MA</td>\n",
       "      <td>94 min</td>\n",
       "      <td>Stand-Up Comedy</td>\n",
       "      <td>Jandino Asporaat riffs on the challenges of ra...</td>\n",
       "    </tr>\n",
       "    <tr>\n",
       "      <th>2</th>\n",
       "      <td>70234439</td>\n",
       "      <td>TV Show</td>\n",
       "      <td>Transformers Prime</td>\n",
       "      <td>NaN</td>\n",
       "      <td>Peter Cullen, Sumalee Montano, Frank Welker, J...</td>\n",
       "      <td>United States</td>\n",
       "      <td>September 8, 2018</td>\n",
       "      <td>2013</td>\n",
       "      <td>TV-Y7-FV</td>\n",
       "      <td>1 Season</td>\n",
       "      <td>Kids' TV</td>\n",
       "      <td>With the help of three human allies, the Autob...</td>\n",
       "    </tr>\n",
       "    <tr>\n",
       "      <th>3</th>\n",
       "      <td>80058654</td>\n",
       "      <td>TV Show</td>\n",
       "      <td>Transformers: Robots in Disguise</td>\n",
       "      <td>NaN</td>\n",
       "      <td>Will Friedle, Darren Criss, Constance Zimmer, ...</td>\n",
       "      <td>United States</td>\n",
       "      <td>September 8, 2018</td>\n",
       "      <td>2016</td>\n",
       "      <td>TV-Y7</td>\n",
       "      <td>1 Season</td>\n",
       "      <td>Kids' TV</td>\n",
       "      <td>When a prison ship crash unleashes hundreds of...</td>\n",
       "    </tr>\n",
       "    <tr>\n",
       "      <th>4</th>\n",
       "      <td>80125979</td>\n",
       "      <td>Movie</td>\n",
       "      <td>#realityhigh</td>\n",
       "      <td>Fernando Lebrija</td>\n",
       "      <td>Nesta Cooper, Kate Walsh, John Michael Higgins...</td>\n",
       "      <td>United States</td>\n",
       "      <td>September 8, 2017</td>\n",
       "      <td>2017</td>\n",
       "      <td>TV-14</td>\n",
       "      <td>99 min</td>\n",
       "      <td>Comedies</td>\n",
       "      <td>When nerdy high schooler Dani finally attracts...</td>\n",
       "    </tr>\n",
       "  </tbody>\n",
       "</table>\n",
       "</div>"
      ],
      "text/plain": [
       "    show_id     type                                    title  \\\n",
       "0  81145628    Movie  Norm of the North: King Sized Adventure   \n",
       "1  80117401    Movie               Jandino: Whatever it Takes   \n",
       "2  70234439  TV Show                       Transformers Prime   \n",
       "3  80058654  TV Show         Transformers: Robots in Disguise   \n",
       "4  80125979    Movie                             #realityhigh   \n",
       "\n",
       "                   director  \\\n",
       "0  Richard Finn, Tim Maltby   \n",
       "1                       NaN   \n",
       "2                       NaN   \n",
       "3                       NaN   \n",
       "4          Fernando Lebrija   \n",
       "\n",
       "                                                cast  \\\n",
       "0  Alan Marriott, Andrew Toth, Brian Dobson, Cole...   \n",
       "1                                   Jandino Asporaat   \n",
       "2  Peter Cullen, Sumalee Montano, Frank Welker, J...   \n",
       "3  Will Friedle, Darren Criss, Constance Zimmer, ...   \n",
       "4  Nesta Cooper, Kate Walsh, John Michael Higgins...   \n",
       "\n",
       "                                    country         date_added  release_year  \\\n",
       "0  United States, India, South Korea, China  September 9, 2019          2019   \n",
       "1                            United Kingdom  September 9, 2016          2016   \n",
       "2                             United States  September 8, 2018          2013   \n",
       "3                             United States  September 8, 2018          2016   \n",
       "4                             United States  September 8, 2017          2017   \n",
       "\n",
       "     rating  duration                           listed_in  \\\n",
       "0     TV-PG    90 min  Children & Family Movies, Comedies   \n",
       "1     TV-MA    94 min                     Stand-Up Comedy   \n",
       "2  TV-Y7-FV  1 Season                            Kids' TV   \n",
       "3     TV-Y7  1 Season                            Kids' TV   \n",
       "4     TV-14    99 min                            Comedies   \n",
       "\n",
       "                                         description  \n",
       "0  Before planning an awesome wedding for his gra...  \n",
       "1  Jandino Asporaat riffs on the challenges of ra...  \n",
       "2  With the help of three human allies, the Autob...  \n",
       "3  When a prison ship crash unleashes hundreds of...  \n",
       "4  When nerdy high schooler Dani finally attracts...  "
      ]
     },
     "execution_count": 3,
     "metadata": {},
     "output_type": "execute_result"
    }
   ],
   "source": [
    "df = pd.read_csv(\"./data/netflix_titles.csv\")\n",
    "df.head()"
   ]
  },
  {
   "cell_type": "code",
   "execution_count": 4,
   "metadata": {},
   "outputs": [
    {
     "data": {
      "text/plain": [
       "(6234, 12)"
      ]
     },
     "execution_count": 4,
     "metadata": {},
     "output_type": "execute_result"
    }
   ],
   "source": [
    "df.shape"
   ]
  },
  {
   "cell_type": "code",
   "execution_count": 5,
   "metadata": {},
   "outputs": [
    {
     "data": {
      "text/plain": [
       "Index(['show_id', 'type', 'title', 'director', 'cast', 'country', 'date_added',\n",
       "       'release_year', 'rating', 'duration', 'listed_in', 'description'],\n",
       "      dtype='object')"
      ]
     },
     "execution_count": 5,
     "metadata": {},
     "output_type": "execute_result"
    }
   ],
   "source": [
    "df.columns"
   ]
  },
  {
   "cell_type": "code",
   "execution_count": 6,
   "metadata": {},
   "outputs": [
    {
     "data": {
      "text/plain": [
       "show_id            0\n",
       "type               0\n",
       "title              0\n",
       "director        1969\n",
       "cast             570\n",
       "country          476\n",
       "date_added        11\n",
       "release_year       0\n",
       "rating            10\n",
       "duration           0\n",
       "listed_in          0\n",
       "description        0\n",
       "dtype: int64"
      ]
     },
     "execution_count": 6,
     "metadata": {},
     "output_type": "execute_result"
    }
   ],
   "source": [
    "df.isnull().sum()"
   ]
  },
  {
   "cell_type": "code",
   "execution_count": 7,
   "metadata": {},
   "outputs": [
    {
     "data": {
      "text/plain": [
       "(3774, 12)"
      ]
     },
     "execution_count": 7,
     "metadata": {},
     "output_type": "execute_result"
    }
   ],
   "source": [
    "df = df.dropna()\n",
    "df.shape"
   ]
  },
  {
   "cell_type": "code",
   "execution_count": 8,
   "metadata": {},
   "outputs": [
    {
     "data": {
      "text/plain": [
       "show_id         3774\n",
       "type               2\n",
       "title           3752\n",
       "director        2920\n",
       "cast            3667\n",
       "country          433\n",
       "date_added      1014\n",
       "release_year      69\n",
       "rating            14\n",
       "duration         184\n",
       "listed_in        296\n",
       "description     3766\n",
       "dtype: int64"
      ]
     },
     "execution_count": 8,
     "metadata": {},
     "output_type": "execute_result"
    }
   ],
   "source": [
    "df.nunique()"
   ]
  },
  {
   "cell_type": "code",
   "execution_count": 9,
   "metadata": {},
   "outputs": [
    {
     "data": {
      "text/plain": [
       "show_id          int64\n",
       "type            object\n",
       "title           object\n",
       "director        object\n",
       "cast            object\n",
       "country         object\n",
       "date_added      object\n",
       "release_year     int64\n",
       "rating          object\n",
       "duration        object\n",
       "listed_in       object\n",
       "description     object\n",
       "dtype: object"
      ]
     },
     "execution_count": 9,
     "metadata": {},
     "output_type": "execute_result"
    }
   ],
   "source": [
    "df.dtypes"
   ]
  },
  {
   "cell_type": "code",
   "execution_count": 11,
   "metadata": {},
   "outputs": [],
   "source": [
    "df_bk = df.copy()"
   ]
  },
  {
   "cell_type": "markdown",
   "metadata": {},
   "source": [
    "### Classificações\n",
    "\n",
    "- **TV-Y**\n",
    "(Conteúdo infantil)\n",
    "\n",
    "Animações ou live-actions infantis, os temas e os elementos neste programa são projetados especificamente para um público muito jovem, incluindo crianças de idades 2 à 6. Esses programas não são esperados para assustar as crianças mais novas. São exemplos de programas emitidos esta classificação incluem Vila Sésamo, Barney e seus amigos, Dora, a Aventureira, Go, Diego, Go! e Backyardigans. Além disso, em alguns programas de TV-Y, é geralmente aquelas debatidas em redes over-the-air de transmissão variando da TV NBC, logotipo da E/I será mostrado através de elementos do programa se ele contém conteúdo educacional.\n",
    "\n",
    "- **TV-Y7**\n",
    "(Não recomendado para menores de 7 anos)\n",
    "\n",
    "Esta classificação pode não ser apropriadas para algumas crianças com menos de 7 anos. Esta avaliação pode incluir humor suave, violência animada leve, ou conteúdo considerado demasiado assustador ou controverso para ser mostrado às crianças menores de 7 anos. Exemplos: Mansão Foster Para Amigos Imaginários, KND: A Turma do Bairro, Gravity Falls e Bob Esponja.\n",
    "\n",
    "- **TV-Y7-FV**\n",
    "(Não recomendado para menores de 7 anos com violência fantasiosa)\n",
    "\n",
    "Quando uma animação tem visivelmente mais violência de fantasia, ele é classificado como \"TV-Y7-FV\". Exemplos: Digimon, Pokémon (depois de ser transferida para o Cartoon Network, onde na WB Kids foi anteriormente avaliado como \"TV-Y\"), Power Rangers, e a série Sonic X. A maioria das animações japonesas ou animes dublados e dirigido para crianças nos Estados Unidos, são sugeridas com esta classificação.\n",
    "\n",
    "- **TV-G**\n",
    "(Recomendado para todos os públicos)\n",
    "\n",
    "Embora, esta classificação não é muito usado para ser atribuído nas animações especificamente para crianças, a maioria dos pais podem deixar as crianças mais jovens assistir este programa autônomo. Contém pouca ou nenhuma violência, linguagem leve e pouco ou nenhum diálogo sexual. Redes de informações como jornais, são geralmente classificados como \"TV-G\". Show são direcionados para pré-adolescentes e adolescentes na Nickelodeon e no Disney Channel estão classificados como \"TV-G\".\n",
    "\n",
    "- **TV-PG**\n",
    "(Classificação destinada com a orientação parental)\n",
    "\n",
    "Esta classificação significa que o programa pode não ser adequado para crianças menores sem a orientação dos pais. Muitos pais podem querer vê-lo com seus filhos mais jovens. Vários conteúdos meio não apropriados são classificados como \"PG-TV\" para conteúdos familiares, diálogos, humor sugestivos e linguagem inapropriada. Alguns seriados do horário nobre, como Everybody Loves Raymond, Os Simpsons, Futurama (FOX e nas transmissões do Adult Swim), Seinfeld, e a série Dragon Ball geralmente classificado como \"PG-TV\". Desde 2008, todas as programações do WWE (incluindo o seus Pay-Per-Views) foram classificados como \"TV-PG\" (que eram anteriormente como \"TV-14\", mas a classificação foi alterada para atrair mais o público).\n",
    "\n",
    "A classificação PG-TV podem ser acompanhadas por um ou mais das seguintes sub-classificações:\n",
    "\n",
    "D para diálogos\n",
    "L para linguagem inapropriada leve ou infrequente\n",
    "S para algumas com conteúdos sexuais\n",
    "V para violência leve\n",
    "TV-14\n",
    "(Não recomendado para menores de 14 anos)\n",
    "\n",
    "Os pais estão dispostos a exercer um maior cuidado no acompanhamento do programa e são advertidos contra deixar as crianças de qualquer idade nas horas muito tarde. A classificação \"TV-14\" podem ser acompanhadas por um ou mais das seguintes sub-classificações:\n",
    "\n",
    "D para diálogos\n",
    "L para linguagem inapropriada leve ou infrequente ou um pouco intensa\n",
    "S para conteudo sexuais forte\n",
    "V para violência leve ou intensa\n",
    "Muitos programas que estão no ar depois de 21:00, a maioria estão classificados como \"TV-14\", incluindo \"The Tonight Show\" e \"Saturday Night Live\". Alguns filmes classificado como \"PG-13\" ou \"R\" são classificados como TV-14 na televisão americana, quando é editado para a transmissão. Animes como Bleach e Inuyasha é alternativamente classificado entre \"TV-PG\" ou \"TV-14\". Total Nonstop Action Wrestling ou TNA tem a classificação de \"TV-14\" em todos os seus programas, devido à sua violência, conteúdo sexual e de diálogo, ao contrário de seu concorrente, o WWE que tinha a classificação de \"TV-14\" e depois foi mudada para \"TV-PG\".\n",
    "\n",
    "Programações ao vivo nas televisões, como cerimônias de premiações, shows e algumas promoções são por vezes classificado como \"TV-14\", por causa da possibilidade de que a profanidade ou sugestivo diálogo pode ocorrer.\n",
    "\n",
    "- **TV-MA**\n",
    "(Audiência madura — não recomendado para menores de 17 anos)\n",
    "\n",
    "A classificação \"TV-MA\", o programa não é adequado para menores de 17 anos. Esta classificação foi originalmente como \"RV-M\" no início de 1997, mas foi alterado devido a uma disputa de marca e de remover a confusão com o \"M\" da ESRB, empresa de classificação para jogos. O programa pode conter muita violência, palavrões fortes, diálogos sexuais, nudez e/ou conteúdo sexual forte. A maioria dos programas de televisão que levam esta classificação estão na TV a cabo e TV via satélite, a rede de televisão raramente vai ao ar a programação que justifiquem desta tal classificação, devido à Federal Communications Commission, indecência e obscenidade diretrizes que impedem a maior parte deste tipo de programação de aeração em televisão. O filme A Lista de Schindler foi a primeiro filme a ter a classificação de \"TV-MA\", e o episódio piloto do drama policial da CBS, o Brooklyn Sul fez a série ser a primeira série com a classificação \"TV-MA\". Programações originais a ser exibida na noite em algumas redes de TV a cabo, geralmente, irá realizar esta classificação.\n",
    "\n",
    "A classificação \"TV-MA\" podem ser acompanhadas por um ou mais das seguintes subclassificações:\n",
    "\n",
    "L para linguagem inapropriada intensa\n",
    "S para contenudo sexual grafica\n",
    "V para violência grafica\n",
    "Não há nenhum D (diálogo sugestivo) de sub-classificação para a \"TV-MA\", apesar de alguns canais, como Comedy Central, Spike TV, Logo e IFC, irão usar o \"D\" de sub-classificação."
   ]
  },
  {
   "cell_type": "code",
   "execution_count": 17,
   "metadata": {},
   "outputs": [
    {
     "data": {
      "text/plain": [
       "Text(0.5, 1.0, 'Rating')"
      ]
     },
     "execution_count": 17,
     "metadata": {},
     "output_type": "execute_result"
    },
    {
     "data": {
      "image/png": "[encoded data removed]",
      "text/plain": [
       "<Figure size 936x936 with 1 Axes>"
      ]
     },
     "metadata": {
      "needs_background": "light"
     },
     "output_type": "display_data"
    }
   ],
   "source": [
    "sns.countplot(df['rating'])\n",
    "sns.countplot(df['rating']).set_xticklabels(sns.countplot(df['rating']).get_xticklabels(), rotation=90, ha=\"right\")\n",
    "fig = plt.gcf()\n",
    "fig.set_size_inches(13,13)\n",
    "plt.title('Rating')"
   ]
  },
  {
   "cell_type": "code",
   "execution_count": 18,
   "metadata": {},
   "outputs": [
    {
     "data": {
      "image/png": "[encoded data removed]",
      "text/plain": [
       "<Figure size 720x576 with 1 Axes>"
      ]
     },
     "metadata": {},
     "output_type": "display_data"
    }
   ],
   "source": [
    "df['rating'].value_counts().plot.pie(autopct='%1.1f%%',shadow=True,figsize=(10,8))\n",
    "plt.show()"
   ]
  }
 ],
 "metadata": {
  "kernelspec": {
   "display_name": "Python 3",
   "language": "python",
   "name": "python3"
  },
  "language_info": {
   "codemirror_mode": {
    "name": "ipython",
    "version": 3
   },
   "file_extension": ".py",
   "mimetype": "text/x-python",
   "name": "python",
   "nbconvert_exporter": "python",
   "pygments_lexer": "ipython3",
   "version": "3.7.3"
  }
 },
 "nbformat": 4,
 "nbformat_minor": 2
}
